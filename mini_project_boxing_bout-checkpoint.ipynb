{
 "cells": [
  {
   "cell_type": "code",
   "execution_count": 1,
   "metadata": {},
   "outputs": [],
   "source": [
    "import pandas as pd\n",
    "import numpy as np\n",
    "import seaborn as sns\n",
    "import matplotlib.pyplot as plt\n",
    "%matplotlib inline\n",
    "pd.set_option(\"display.max_columns\",None)"
   ]
  },
  {
   "cell_type": "code",
   "execution_count": 5,
   "metadata": {},
   "outputs": [
    {
     "data": {
      "text/html": [
       "<div>\n",
       "<style scoped>\n",
       "    .dataframe tbody tr th:only-of-type {\n",
       "        vertical-align: middle;\n",
       "    }\n",
       "\n",
       "    .dataframe tbody tr th {\n",
       "        vertical-align: top;\n",
       "    }\n",
       "\n",
       "    .dataframe thead th {\n",
       "        text-align: right;\n",
       "    }\n",
       "</style>\n",
       "<table border=\"1\" class=\"dataframe\">\n",
       "  <thead>\n",
       "    <tr style=\"text-align: right;\">\n",
       "      <th></th>\n",
       "      <th>age_A</th>\n",
       "      <th>age_B</th>\n",
       "      <th>height_A</th>\n",
       "      <th>height_B</th>\n",
       "      <th>reach_A</th>\n",
       "      <th>reach_B</th>\n",
       "      <th>stance_A</th>\n",
       "      <th>stance_B</th>\n",
       "      <th>weight_A</th>\n",
       "      <th>weight_B</th>\n",
       "      <th>won_A</th>\n",
       "      <th>won_B</th>\n",
       "      <th>lost_A</th>\n",
       "      <th>lost_B</th>\n",
       "      <th>drawn_A</th>\n",
       "      <th>drawn_B</th>\n",
       "      <th>kos_A</th>\n",
       "      <th>kos_B</th>\n",
       "      <th>result</th>\n",
       "      <th>decision</th>\n",
       "      <th>judge1_A</th>\n",
       "      <th>judge1_B</th>\n",
       "      <th>judge2_A</th>\n",
       "      <th>judge2_B</th>\n",
       "      <th>judge3_A</th>\n",
       "      <th>judge3_B</th>\n",
       "    </tr>\n",
       "  </thead>\n",
       "  <tbody>\n",
       "    <tr>\n",
       "      <th>0</th>\n",
       "      <td>35.0</td>\n",
       "      <td>27.0</td>\n",
       "      <td>179.0</td>\n",
       "      <td>175.0</td>\n",
       "      <td>178.0</td>\n",
       "      <td>179.0</td>\n",
       "      <td>orthodox</td>\n",
       "      <td>orthodox</td>\n",
       "      <td>160.0</td>\n",
       "      <td>160.0</td>\n",
       "      <td>37</td>\n",
       "      <td>49</td>\n",
       "      <td>0</td>\n",
       "      <td>1</td>\n",
       "      <td>0</td>\n",
       "      <td>1</td>\n",
       "      <td>33</td>\n",
       "      <td>34.0</td>\n",
       "      <td>draw</td>\n",
       "      <td>SD</td>\n",
       "      <td>110.0</td>\n",
       "      <td>118.0</td>\n",
       "      <td>115.0</td>\n",
       "      <td>113.0</td>\n",
       "      <td>114.0</td>\n",
       "      <td>114.0</td>\n",
       "    </tr>\n",
       "    <tr>\n",
       "      <th>1</th>\n",
       "      <td>26.0</td>\n",
       "      <td>31.0</td>\n",
       "      <td>175.0</td>\n",
       "      <td>185.0</td>\n",
       "      <td>179.0</td>\n",
       "      <td>185.0</td>\n",
       "      <td>orthodox</td>\n",
       "      <td>orthodox</td>\n",
       "      <td>164.0</td>\n",
       "      <td>164.0</td>\n",
       "      <td>48</td>\n",
       "      <td>50</td>\n",
       "      <td>1</td>\n",
       "      <td>2</td>\n",
       "      <td>1</td>\n",
       "      <td>1</td>\n",
       "      <td>34</td>\n",
       "      <td>32.0</td>\n",
       "      <td>win_A</td>\n",
       "      <td>UD</td>\n",
       "      <td>120.0</td>\n",
       "      <td>108.0</td>\n",
       "      <td>120.0</td>\n",
       "      <td>108.0</td>\n",
       "      <td>120.0</td>\n",
       "      <td>108.0</td>\n",
       "    </tr>\n",
       "    <tr>\n",
       "      <th>2</th>\n",
       "      <td>28.0</td>\n",
       "      <td>26.0</td>\n",
       "      <td>176.0</td>\n",
       "      <td>175.0</td>\n",
       "      <td>NaN</td>\n",
       "      <td>179.0</td>\n",
       "      <td>orthodox</td>\n",
       "      <td>orthodox</td>\n",
       "      <td>154.0</td>\n",
       "      <td>154.0</td>\n",
       "      <td>23</td>\n",
       "      <td>47</td>\n",
       "      <td>0</td>\n",
       "      <td>1</td>\n",
       "      <td>1</td>\n",
       "      <td>1</td>\n",
       "      <td>13</td>\n",
       "      <td>33.0</td>\n",
       "      <td>win_B</td>\n",
       "      <td>KO</td>\n",
       "      <td>NaN</td>\n",
       "      <td>NaN</td>\n",
       "      <td>NaN</td>\n",
       "      <td>NaN</td>\n",
       "      <td>NaN</td>\n",
       "      <td>NaN</td>\n",
       "    </tr>\n",
       "    <tr>\n",
       "      <th>3</th>\n",
       "      <td>25.0</td>\n",
       "      <td>29.0</td>\n",
       "      <td>175.0</td>\n",
       "      <td>174.0</td>\n",
       "      <td>179.0</td>\n",
       "      <td>180.0</td>\n",
       "      <td>orthodox</td>\n",
       "      <td>orthodox</td>\n",
       "      <td>155.0</td>\n",
       "      <td>155.0</td>\n",
       "      <td>46</td>\n",
       "      <td>31</td>\n",
       "      <td>1</td>\n",
       "      <td>3</td>\n",
       "      <td>1</td>\n",
       "      <td>0</td>\n",
       "      <td>32</td>\n",
       "      <td>19.0</td>\n",
       "      <td>win_A</td>\n",
       "      <td>KO</td>\n",
       "      <td>47.0</td>\n",
       "      <td>48.0</td>\n",
       "      <td>49.0</td>\n",
       "      <td>46.0</td>\n",
       "      <td>48.0</td>\n",
       "      <td>47.0</td>\n",
       "    </tr>\n",
       "    <tr>\n",
       "      <th>4</th>\n",
       "      <td>25.0</td>\n",
       "      <td>35.0</td>\n",
       "      <td>175.0</td>\n",
       "      <td>170.0</td>\n",
       "      <td>179.0</td>\n",
       "      <td>170.0</td>\n",
       "      <td>orthodox</td>\n",
       "      <td>orthodox</td>\n",
       "      <td>155.0</td>\n",
       "      <td>NaN</td>\n",
       "      <td>45</td>\n",
       "      <td>40</td>\n",
       "      <td>1</td>\n",
       "      <td>4</td>\n",
       "      <td>1</td>\n",
       "      <td>0</td>\n",
       "      <td>32</td>\n",
       "      <td>33.0</td>\n",
       "      <td>win_A</td>\n",
       "      <td>UD</td>\n",
       "      <td>118.0</td>\n",
       "      <td>110.0</td>\n",
       "      <td>119.0</td>\n",
       "      <td>109.0</td>\n",
       "      <td>117.0</td>\n",
       "      <td>111.0</td>\n",
       "    </tr>\n",
       "  </tbody>\n",
       "</table>\n",
       "</div>"
      ],
      "text/plain": [
       "   age_A  age_B  height_A  height_B  reach_A  reach_B  stance_A  stance_B  \\\n",
       "0   35.0   27.0     179.0     175.0    178.0    179.0  orthodox  orthodox   \n",
       "1   26.0   31.0     175.0     185.0    179.0    185.0  orthodox  orthodox   \n",
       "2   28.0   26.0     176.0     175.0      NaN    179.0  orthodox  orthodox   \n",
       "3   25.0   29.0     175.0     174.0    179.0    180.0  orthodox  orthodox   \n",
       "4   25.0   35.0     175.0     170.0    179.0    170.0  orthodox  orthodox   \n",
       "\n",
       "   weight_A  weight_B  won_A  won_B  lost_A  lost_B  drawn_A  drawn_B  kos_A  \\\n",
       "0     160.0     160.0     37     49       0       1        0        1     33   \n",
       "1     164.0     164.0     48     50       1       2        1        1     34   \n",
       "2     154.0     154.0     23     47       0       1        1        1     13   \n",
       "3     155.0     155.0     46     31       1       3        1        0     32   \n",
       "4     155.0       NaN     45     40       1       4        1        0     32   \n",
       "\n",
       "   kos_B result decision  judge1_A  judge1_B  judge2_A  judge2_B  judge3_A  \\\n",
       "0   34.0   draw       SD     110.0     118.0     115.0     113.0     114.0   \n",
       "1   32.0  win_A       UD     120.0     108.0     120.0     108.0     120.0   \n",
       "2   33.0  win_B       KO       NaN       NaN       NaN       NaN       NaN   \n",
       "3   19.0  win_A       KO      47.0      48.0      49.0      46.0      48.0   \n",
       "4   33.0  win_A       UD     118.0     110.0     119.0     109.0     117.0   \n",
       "\n",
       "   judge3_B  \n",
       "0     114.0  \n",
       "1     108.0  \n",
       "2       NaN  \n",
       "3      47.0  \n",
       "4     111.0  "
      ]
     },
     "execution_count": 5,
     "metadata": {},
     "output_type": "execute_result"
    }
   ],
   "source": [
    "df = pd.read_csv('data/bouts_out_new.csv')\n",
    "df.head()"
   ]
  },
  {
   "cell_type": "code",
   "execution_count": 29,
   "metadata": {},
   "outputs": [
    {
     "data": {
      "text/plain": [
       "<matplotlib.axes._subplots.AxesSubplot at 0x198b50b42b0>"
      ]
     },
     "execution_count": 29,
     "metadata": {},
     "output_type": "execute_result"
    },
    {
     "data": {
      "image/png": "[encoded data removed]",
      "text/plain": [
       "<Figure size 432x288 with 1 Axes>"
      ]
     },
     "metadata": {},
     "output_type": "display_data"
    }
   ],
   "source": [
    "df.age_A.plot.hist(title=\"Age comparision\")"
   ]
  },
  {
   "cell_type": "markdown",
   "metadata": {},
   "source": [
    "Most boxers are of age 22 - 27years old"
   ]
  },
  {
   "cell_type": "code",
   "execution_count": 31,
   "metadata": {},
   "outputs": [
    {
     "data": {
      "text/plain": [
       "<matplotlib.axes._subplots.AxesSubplot at 0x198b60b82b0>"
      ]
     },
     "execution_count": 31,
     "metadata": {},
     "output_type": "execute_result"
    },
    {
     "data": {
      "image/png": "[encoded data removed]",
      "text/plain": [
       "<Figure size 432x288 with 1 Axes>"
      ]
     },
     "metadata": {},
     "output_type": "display_data"
    }
   ],
   "source": [
    "df.age_B.plot.hist(title=\"Age comparision\")"
   ]
  },
  {
   "cell_type": "markdown",
   "metadata": {},
   "source": [
    "Most boxers are of age 25-30year old"
   ]
  },
  {
   "cell_type": "code",
   "execution_count": 46,
   "metadata": {},
   "outputs": [
    {
     "data": {
      "text/plain": [
       "<matplotlib.axes._subplots.AxesSubplot at 0x198b6ec5ac8>"
      ]
     },
     "execution_count": 46,
     "metadata": {},
     "output_type": "execute_result"
    },
    {
     "data": {
      "image/png": "[encoded data removed]",
      "text/plain": [
       "<Figure size 432x288 with 1 Axes>"
      ]
     },
     "metadata": {},
     "output_type": "display_data"
    }
   ],
   "source": [
    "df.height_A.plot.hist(title=\"height comparision\")"
   ]
  },
  {
   "cell_type": "markdown",
   "metadata": {},
   "source": [
    "Most boxers are of height 165-180 "
   ]
  },
  {
   "cell_type": "code",
   "execution_count": 45,
   "metadata": {},
   "outputs": [
    {
     "data": {
      "text/plain": [
       "<matplotlib.axes._subplots.AxesSubplot at 0x198b6b59ef0>"
      ]
     },
     "execution_count": 45,
     "metadata": {},
     "output_type": "execute_result"
    },
    {
     "data": {
      "image/png": "[encoded data removed]",
      "text/plain": [
       "<Figure size 432x288 with 1 Axes>"
      ]
     },
     "metadata": {},
     "output_type": "display_data"
    }
   ],
   "source": [
    "df.height_B.plot.hist(title=\"height comparision\")"
   ]
  },
  {
   "cell_type": "markdown",
   "metadata": {},
   "source": [
    "Most boxers are of height 170-180"
   ]
  },
  {
   "cell_type": "code",
   "execution_count": 44,
   "metadata": {},
   "outputs": [
    {
     "data": {
      "text/plain": [
       "<matplotlib.axes._subplots.AxesSubplot at 0x198b6c96f28>"
      ]
     },
     "execution_count": 44,
     "metadata": {},
     "output_type": "execute_result"
    },
    {
     "data": {
      "image/png": "[encoded data removed]",
      "text/plain": [
       "<Figure size 432x288 with 1 Axes>"
      ]
     },
     "metadata": {},
     "output_type": "display_data"
    }
   ],
   "source": [
    "df.reach_A.plot.hist(title=\"reach comparision\")"
   ]
  },
  {
   "cell_type": "markdown",
   "metadata": {},
   "source": [
    "Most boxers are of reach 170-180"
   ]
  },
  {
   "cell_type": "code",
   "execution_count": 39,
   "metadata": {},
   "outputs": [
    {
     "data": {
      "text/plain": [
       "<matplotlib.axes._subplots.AxesSubplot at 0x198b6aecfd0>"
      ]
     },
     "execution_count": 39,
     "metadata": {},
     "output_type": "execute_result"
    },
    {
     "data": {
      "image/png": "[encoded data removed]",
      "text/plain": [
       "<Figure size 432x288 with 1 Axes>"
      ]
     },
     "metadata": {},
     "output_type": "display_data"
    }
   ],
   "source": [
    "df.reach_B.plot.hist(title=\"reach comparision\")"
   ]
  },
  {
   "cell_type": "markdown",
   "metadata": {},
   "source": [
    "Most boxers are of reach 180-185"
   ]
  },
  {
   "cell_type": "code",
   "execution_count": 40,
   "metadata": {},
   "outputs": [
    {
     "data": {
      "text/plain": [
       "<matplotlib.axes._subplots.AxesSubplot at 0x198b6c310b8>"
      ]
     },
     "execution_count": 40,
     "metadata": {},
     "output_type": "execute_result"
    },
    {
     "data": {
      "image/png": "[encoded data removed]",
      "text/plain": [
       "<Figure size 432x288 with 1 Axes>"
      ]
     },
     "metadata": {},
     "output_type": "display_data"
    }
   ],
   "source": [
    "df.weight_A.plot.hist(title=\"weight comparision\")"
   ]
  },
  {
   "cell_type": "markdown",
   "metadata": {},
   "source": [
    "Most boxers are of weight 140-150"
   ]
  },
  {
   "cell_type": "code",
   "execution_count": 41,
   "metadata": {},
   "outputs": [
    {
     "data": {
      "text/plain": [
       "<matplotlib.axes._subplots.AxesSubplot at 0x198b61d2828>"
      ]
     },
     "execution_count": 41,
     "metadata": {},
     "output_type": "execute_result"
    },
    {
     "data": {
      "image/png": "[encoded data removed]",
      "text/plain": [
       "<Figure size 432x288 with 1 Axes>"
      ]
     },
     "metadata": {},
     "output_type": "display_data"
    }
   ],
   "source": [
    "df.weight_B.plot.hist(title=\"weight comparision\")"
   ]
  },
  {
   "cell_type": "markdown",
   "metadata": {},
   "source": [
    "Most boxers are of weight 140-150"
   ]
  },
  {
   "cell_type": "code",
   "execution_count": 42,
   "metadata": {},
   "outputs": [
    {
     "data": {
      "text/plain": [
       "<matplotlib.axes._subplots.AxesSubplot at 0x198b6d034e0>"
      ]
     },
     "execution_count": 42,
     "metadata": {},
     "output_type": "execute_result"
    },
    {
     "data": {
      "image/png": "[encoded data removed]",
      "text/plain": [
       "<Figure size 432x288 with 1 Axes>"
      ]
     },
     "metadata": {},
     "output_type": "display_data"
    }
   ],
   "source": [
    "df.won_A.plot.hist(title=\"won comparision\")"
   ]
  },
  {
   "cell_type": "markdown",
   "metadata": {},
   "source": [
    "Most boxers are of won 0-25"
   ]
  },
  {
   "cell_type": "code",
   "execution_count": 43,
   "metadata": {},
   "outputs": [
    {
     "data": {
      "text/plain": [
       "<matplotlib.axes._subplots.AxesSubplot at 0x198b6d7abe0>"
      ]
     },
     "execution_count": 43,
     "metadata": {},
     "output_type": "execute_result"
    },
    {
     "data": {
      "image/png": "[encoded data removed]",
      "text/plain": [
       "<Figure size 432x288 with 1 Axes>"
      ]
     },
     "metadata": {},
     "output_type": "display_data"
    }
   ],
   "source": [
    "df.won_B.plot.hist(title=\"won comparision\")"
   ]
  },
  {
   "cell_type": "markdown",
   "metadata": {},
   "source": [
    "Most boxers are of won 0-10"
   ]
  },
  {
   "cell_type": "code",
   "execution_count": 47,
   "metadata": {},
   "outputs": [
    {
     "data": {
      "text/plain": [
       "<matplotlib.axes._subplots.AxesSubplot at 0x198b6f288d0>"
      ]
     },
     "execution_count": 47,
     "metadata": {},
     "output_type": "execute_result"
    },
    {
     "data": {
      "image/png": "[encoded data removed]",
      "text/plain": [
       "<Figure size 432x288 with 1 Axes>"
      ]
     },
     "metadata": {},
     "output_type": "display_data"
    }
   ],
   "source": [
    "df.lost_A.plot.hist(title=\"lost comparision\")"
   ]
  },
  {
   "cell_type": "markdown",
   "metadata": {},
   "source": [
    "Most boxers are of lost 0-5"
   ]
  },
  {
   "cell_type": "code",
   "execution_count": 48,
   "metadata": {},
   "outputs": [
    {
     "data": {
      "text/plain": [
       "<matplotlib.axes._subplots.AxesSubplot at 0x198b6f8e4e0>"
      ]
     },
     "execution_count": 48,
     "metadata": {},
     "output_type": "execute_result"
    },
    {
     "data": {
      "image/png": "[encoded data removed]",
      "text/plain": [
       "<Figure size 432x288 with 1 Axes>"
      ]
     },
     "metadata": {},
     "output_type": "display_data"
    }
   ],
   "source": [
    "df.lost_A.plot.hist(title=\"lost comparision\")"
   ]
  },
  {
   "cell_type": "markdown",
   "metadata": {},
   "source": [
    "Most boxers are of lost 0-5"
   ]
  },
  {
   "cell_type": "code",
   "execution_count": 49,
   "metadata": {},
   "outputs": [
    {
     "data": {
      "text/plain": [
       "<matplotlib.axes._subplots.AxesSubplot at 0x198b701ef98>"
      ]
     },
     "execution_count": 49,
     "metadata": {},
     "output_type": "execute_result"
    },
    {
     "data": {
      "image/png": "[encoded data removed]",
      "text/plain": [
       "<Figure size 432x288 with 1 Axes>"
      ]
     },
     "metadata": {},
     "output_type": "display_data"
    }
   ],
   "source": [
    "df.judge1_A.plot.hist(title=\"judge1 comparision\")"
   ]
  },
  {
   "cell_type": "markdown",
   "metadata": {},
   "source": [
    "Most boxers are of judge1 in 100-110"
   ]
  },
  {
   "cell_type": "code",
   "execution_count": 50,
   "metadata": {},
   "outputs": [
    {
     "data": {
      "text/plain": [
       "<matplotlib.axes._subplots.AxesSubplot at 0x198b7082470>"
      ]
     },
     "execution_count": 50,
     "metadata": {},
     "output_type": "execute_result"
    },
    {
     "data": {
      "image/png": "[encoded data removed]",
      "text/plain": [
       "<Figure size 432x288 with 1 Axes>"
      ]
     },
     "metadata": {},
     "output_type": "display_data"
    }
   ],
   "source": [
    "df.judge1_B.plot.hist(title=\"judge1 comparision\")"
   ]
  },
  {
   "cell_type": "markdown",
   "metadata": {},
   "source": [
    "Most boxers are of judge1 in 90-110"
   ]
  },
  {
   "cell_type": "code",
   "execution_count": 51,
   "metadata": {},
   "outputs": [
    {
     "data": {
      "text/plain": [
       "<matplotlib.axes._subplots.AxesSubplot at 0x198b70fa208>"
      ]
     },
     "execution_count": 51,
     "metadata": {},
     "output_type": "execute_result"
    },
    {
     "data": {
      "image/png": "[encoded data removed]",
      "text/plain": [
       "<Figure size 432x288 with 1 Axes>"
      ]
     },
     "metadata": {},
     "output_type": "display_data"
    }
   ],
   "source": [
    "df.judge2_A.plot.hist(title=\"judge2 comparision\")"
   ]
  },
  {
   "cell_type": "markdown",
   "metadata": {},
   "source": [
    "Most boxers are of judge2 in 100-110"
   ]
  },
  {
   "cell_type": "code",
   "execution_count": 52,
   "metadata": {},
   "outputs": [
    {
     "data": {
      "text/plain": [
       "<matplotlib.axes._subplots.AxesSubplot at 0x198b70e02b0>"
      ]
     },
     "execution_count": 52,
     "metadata": {},
     "output_type": "execute_result"
    },
    {
     "data": {
      "image/png": "[encoded data removed]",
      "text/plain": [
       "<Figure size 432x288 with 1 Axes>"
      ]
     },
     "metadata": {},
     "output_type": "display_data"
    }
   ],
   "source": [
    "df.judge2_B.plot.hist(title=\"judge2 comparision\")"
   ]
  },
  {
   "cell_type": "markdown",
   "metadata": {},
   "source": [
    "Most boxers are of judge2 in 90-110"
   ]
  },
  {
   "cell_type": "code",
   "execution_count": 53,
   "metadata": {},
   "outputs": [
    {
     "data": {
      "text/plain": [
       "<matplotlib.axes._subplots.AxesSubplot at 0x198b71d5588>"
      ]
     },
     "execution_count": 53,
     "metadata": {},
     "output_type": "execute_result"
    },
    {
     "data": {
      "image/png": "[encoded data removed]",
      "text/plain": [
       "<Figure size 432x288 with 1 Axes>"
      ]
     },
     "metadata": {},
     "output_type": "display_data"
    }
   ],
   "source": [
    "df.judge3_A.plot.hist(title=\"judge3 comparision\")"
   ]
  },
  {
   "cell_type": "markdown",
   "metadata": {},
   "source": [
    "Most boxers are of judge3 in 100-110"
   ]
  },
  {
   "cell_type": "code",
   "execution_count": 54,
   "metadata": {},
   "outputs": [
    {
     "data": {
      "text/plain": [
       "<matplotlib.axes._subplots.AxesSubplot at 0x198b7234048>"
      ]
     },
     "execution_count": 54,
     "metadata": {},
     "output_type": "execute_result"
    },
    {
     "data": {
      "image/png": "[encoded data removed]",
      "text/plain": [
       "<Figure size 432x288 with 1 Axes>"
      ]
     },
     "metadata": {},
     "output_type": "display_data"
    }
   ],
   "source": [
    "df.judge3_B.plot.hist(title=\"judge3 comparision\")"
   ]
  },
  {
   "cell_type": "markdown",
   "metadata": {},
   "source": [
    "Most boxers are of judge3 in 100-110"
   ]
  },
  {
   "cell_type": "code",
   "execution_count": 64,
   "metadata": {},
   "outputs": [
    {
     "data": {
      "text/plain": [
       "array([<matplotlib.axes._subplots.AxesSubplot object at 0x00000198B7451A58>],\n",
       "      dtype=object)"
      ]
     },
     "execution_count": 64,
     "metadata": {},
     "output_type": "execute_result"
    },
    {
     "data": {
      "image/png": "[encoded data removed]",
      "text/plain": [
       "<Figure size 432x288 with 1 Axes>"
      ]
     },
     "metadata": {},
     "output_type": "display_data"
    },
    {
     "data": {
      "image/png": "[encoded data removed]",
      "text/plain": [
       "<Figure size 432x288 with 1 Axes>"
      ]
     },
     "metadata": {},
     "output_type": "display_data"
    }
   ],
   "source": [
    "cols=['kos_A','stance_A']\n",
    "df[cols].groupby('stance_A').sum().plot(kind='pie',subplots=True,autopct='%.1f%%')\n",
    "cols=['kos_B','stance_B']\n",
    "df[cols].groupby('stance_B').sum().plot(kind='pie',subplots=True,autopct='%.1f%%')\n"
   ]
  },
  {
   "cell_type": "code",
   "execution_count": null,
   "metadata": {},
   "outputs": [],
   "source": []
  },
  {
   "cell_type": "code",
   "execution_count": null,
   "metadata": {},
   "outputs": [],
   "source": []
  },
  {
   "cell_type": "code",
   "execution_count": null,
   "metadata": {},
   "outputs": [],
   "source": []
  },
  {
   "cell_type": "code",
   "execution_count": 6,
   "metadata": {},
   "outputs": [],
   "source": [
    "fil = ((df.height_A < 224) & (df.height_A > 147) &\n",
    "      (df.height_B < 224) & (df.height_B > 147) &\n",
    "      (df.weight_B > 70) & (df.weight_A > 70) &\n",
    "      (df.age_A < 60) & (df.age_A > 14) &\n",
    "      (df.age_B < 60) & (df.age_B > 14) &\n",
    "      (df.reach_A < 250) & (df.reach_A > 130) &\n",
    "      (df.reach_B < 250) & (df.reach_B > 130)) \n",
    "df = df[fil]"
   ]
  },
  {
   "cell_type": "code",
   "execution_count": 7,
   "metadata": {},
   "outputs": [],
   "source": [
    "df['Diff_age'] = df.age_A - df.age_B\n",
    "df['Diff_weight'] = df.weight_A - df.weight_B\n",
    "df['Diff_height'] = df.height_A - df.height_B\n",
    "df['Diff_reach'] = df.reach_A - df.reach_B\n",
    "\n",
    "df['Tot_fight_A'] = df.won_A + df.lost_A + df.drawn_A\n",
    "df['Tot_fight_B'] = df.won_B + df.lost_B + df.drawn_B\n",
    "df['Diff_exp'] = df.Tot_fight_A - df.Tot_fight_B\n",
    "\n",
    "df['Win_per_A'] = df.won_A / df.Tot_fight_A\n",
    "df.loc[df.Tot_fight_A == 0, 'Win_per_A'] = 0 #because maybe it is the first fight\n",
    "df['Win_per_B'] = df.won_B / df.Tot_fight_B\n",
    "df.loc[df.Tot_fight_B == 0, 'Win_per_B'] = 0\n",
    "df['KO_perc_A'] = df.kos_A / df.won_A\n",
    "df.loc[df.won_A == 0, 'KO_perc_A'] = 0\n",
    "df['KO_perc_B'] = df.kos_B / df.won_B\n",
    "df.loc[df.won_B == 0, 'KO_perc_B'] = 0\n",
    "\n",
    "df.loc[df.stance_A == df.stance_B, 'Stance'] = 0\n",
    "df.loc[(df.stance_A == 'orthodox') & (df.stance_B == 'southpaw'), 'Stance'] = 1\n",
    "df.loc[(df.stance_B == 'orthodox') & (df.stance_A == 'southpaw'), 'Stance'] = -1"
   ]
  },
  {
   "cell_type": "code",
   "execution_count": 8,
   "metadata": {},
   "outputs": [
    {
     "data": {
      "text/html": [
       "<div>\n",
       "<style scoped>\n",
       "    .dataframe tbody tr th:only-of-type {\n",
       "        vertical-align: middle;\n",
       "    }\n",
       "\n",
       "    .dataframe tbody tr th {\n",
       "        vertical-align: top;\n",
       "    }\n",
       "\n",
       "    .dataframe thead th {\n",
       "        text-align: right;\n",
       "    }\n",
       "</style>\n",
       "<table border=\"1\" class=\"dataframe\">\n",
       "  <thead>\n",
       "    <tr style=\"text-align: right;\">\n",
       "      <th></th>\n",
       "      <th>kos_A</th>\n",
       "      <th>kos_B</th>\n",
       "      <th>result</th>\n",
       "      <th>Diff_age</th>\n",
       "      <th>Diff_weight</th>\n",
       "      <th>Diff_height</th>\n",
       "      <th>Diff_reach</th>\n",
       "      <th>Tot_fight_A</th>\n",
       "      <th>Tot_fight_B</th>\n",
       "      <th>Diff_exp</th>\n",
       "      <th>Win_per_A</th>\n",
       "      <th>Win_per_B</th>\n",
       "      <th>KO_perc_A</th>\n",
       "      <th>KO_perc_B</th>\n",
       "    </tr>\n",
       "  </thead>\n",
       "  <tbody>\n",
       "    <tr>\n",
       "      <th>0</th>\n",
       "      <td>33</td>\n",
       "      <td>34.0</td>\n",
       "      <td>draw</td>\n",
       "      <td>8.0</td>\n",
       "      <td>0.0</td>\n",
       "      <td>4.0</td>\n",
       "      <td>-1.0</td>\n",
       "      <td>37</td>\n",
       "      <td>51</td>\n",
       "      <td>-14</td>\n",
       "      <td>1.000000</td>\n",
       "      <td>0.960784</td>\n",
       "      <td>0.891892</td>\n",
       "      <td>0.693878</td>\n",
       "    </tr>\n",
       "    <tr>\n",
       "      <th>1</th>\n",
       "      <td>34</td>\n",
       "      <td>32.0</td>\n",
       "      <td>win_A</td>\n",
       "      <td>-5.0</td>\n",
       "      <td>0.0</td>\n",
       "      <td>-10.0</td>\n",
       "      <td>-6.0</td>\n",
       "      <td>50</td>\n",
       "      <td>53</td>\n",
       "      <td>-3</td>\n",
       "      <td>0.960000</td>\n",
       "      <td>0.943396</td>\n",
       "      <td>0.708333</td>\n",
       "      <td>0.640000</td>\n",
       "    </tr>\n",
       "    <tr>\n",
       "      <th>3</th>\n",
       "      <td>32</td>\n",
       "      <td>19.0</td>\n",
       "      <td>win_A</td>\n",
       "      <td>-4.0</td>\n",
       "      <td>0.0</td>\n",
       "      <td>1.0</td>\n",
       "      <td>-1.0</td>\n",
       "      <td>48</td>\n",
       "      <td>34</td>\n",
       "      <td>14</td>\n",
       "      <td>0.958333</td>\n",
       "      <td>0.911765</td>\n",
       "      <td>0.695652</td>\n",
       "      <td>0.612903</td>\n",
       "    </tr>\n",
       "    <tr>\n",
       "      <th>6</th>\n",
       "      <td>31</td>\n",
       "      <td>12.0</td>\n",
       "      <td>win_A</td>\n",
       "      <td>-8.0</td>\n",
       "      <td>0.0</td>\n",
       "      <td>0.0</td>\n",
       "      <td>-9.0</td>\n",
       "      <td>45</td>\n",
       "      <td>22</td>\n",
       "      <td>23</td>\n",
       "      <td>0.955556</td>\n",
       "      <td>0.863636</td>\n",
       "      <td>0.720930</td>\n",
       "      <td>0.631579</td>\n",
       "    </tr>\n",
       "    <tr>\n",
       "      <th>10</th>\n",
       "      <td>29</td>\n",
       "      <td>18.0</td>\n",
       "      <td>win_A</td>\n",
       "      <td>-6.0</td>\n",
       "      <td>1.0</td>\n",
       "      <td>-2.0</td>\n",
       "      <td>4.0</td>\n",
       "      <td>41</td>\n",
       "      <td>34</td>\n",
       "      <td>7</td>\n",
       "      <td>0.975610</td>\n",
       "      <td>0.882353</td>\n",
       "      <td>0.725000</td>\n",
       "      <td>0.600000</td>\n",
       "    </tr>\n",
       "  </tbody>\n",
       "</table>\n",
       "</div>"
      ],
      "text/plain": [
       "    kos_A  kos_B result  Diff_age  Diff_weight  Diff_height  Diff_reach  \\\n",
       "0      33   34.0   draw       8.0          0.0          4.0        -1.0   \n",
       "1      34   32.0  win_A      -5.0          0.0        -10.0        -6.0   \n",
       "3      32   19.0  win_A      -4.0          0.0          1.0        -1.0   \n",
       "6      31   12.0  win_A      -8.0          0.0          0.0        -9.0   \n",
       "10     29   18.0  win_A      -6.0          1.0         -2.0         4.0   \n",
       "\n",
       "    Tot_fight_A  Tot_fight_B  Diff_exp  Win_per_A  Win_per_B  KO_perc_A  \\\n",
       "0            37           51       -14   1.000000   0.960784   0.891892   \n",
       "1            50           53        -3   0.960000   0.943396   0.708333   \n",
       "3            48           34        14   0.958333   0.911765   0.695652   \n",
       "6            45           22        23   0.955556   0.863636   0.720930   \n",
       "10           41           34         7   0.975610   0.882353   0.725000   \n",
       "\n",
       "    KO_perc_B  \n",
       "0    0.693878  \n",
       "1    0.640000  \n",
       "3    0.612903  \n",
       "6    0.631579  \n",
       "10   0.600000  "
      ]
     },
     "execution_count": 8,
     "metadata": {},
     "output_type": "execute_result"
    }
   ],
   "source": [
    "# A number of these columns don't seem to make a difference now I have \n",
    "# differences between boxer A and boxer B\n",
    "ml = df.copy()\n",
    "try:\n",
    "    ml.drop(['judge1_A', 'judge1_B', 'judge2_A', 'judge2_B', 'judge3_A', 'judge3_B', 'decision'], axis=1, inplace=True)\n",
    "    ml.drop(['age_A','age_B', 'height_A','height_B','reach_A', 'reach_B','stance_A', 'stance_B'], axis=1, inplace=True)\n",
    "    ml.drop(['weight_A', 'weight_B','won_A','won_B','lost_A','lost_B','drawn_A','drawn_B','Stance'], axis=1, inplace=True) \n",
    "except:\n",
    "    print('already dropped judges')\n",
    "    \n",
    "ml.head()"
   ]
  },
  {
   "cell_type": "code",
   "execution_count": 9,
   "metadata": {},
   "outputs": [
    {
     "data": {
      "text/html": [
       "<div>\n",
       "<style scoped>\n",
       "    .dataframe tbody tr th:only-of-type {\n",
       "        vertical-align: middle;\n",
       "    }\n",
       "\n",
       "    .dataframe tbody tr th {\n",
       "        vertical-align: top;\n",
       "    }\n",
       "\n",
       "    .dataframe thead th {\n",
       "        text-align: right;\n",
       "    }\n",
       "</style>\n",
       "<table border=\"1\" class=\"dataframe\">\n",
       "  <thead>\n",
       "    <tr style=\"text-align: right;\">\n",
       "      <th></th>\n",
       "      <th>kos_A</th>\n",
       "      <th>kos_B</th>\n",
       "      <th>Diff_age</th>\n",
       "      <th>Diff_weight</th>\n",
       "      <th>Diff_height</th>\n",
       "      <th>Diff_reach</th>\n",
       "      <th>Tot_fight_A</th>\n",
       "      <th>Tot_fight_B</th>\n",
       "      <th>Diff_exp</th>\n",
       "      <th>Win_per_A</th>\n",
       "      <th>Win_per_B</th>\n",
       "      <th>KO_perc_A</th>\n",
       "      <th>KO_perc_B</th>\n",
       "      <th>result_draw</th>\n",
       "      <th>result_win_A</th>\n",
       "      <th>result_win_B</th>\n",
       "    </tr>\n",
       "  </thead>\n",
       "  <tbody>\n",
       "    <tr>\n",
       "      <th>0</th>\n",
       "      <td>33</td>\n",
       "      <td>34.0</td>\n",
       "      <td>8.0</td>\n",
       "      <td>0.0</td>\n",
       "      <td>4.0</td>\n",
       "      <td>-1.0</td>\n",
       "      <td>37</td>\n",
       "      <td>51</td>\n",
       "      <td>-14</td>\n",
       "      <td>1.000000</td>\n",
       "      <td>0.960784</td>\n",
       "      <td>0.891892</td>\n",
       "      <td>0.693878</td>\n",
       "      <td>1</td>\n",
       "      <td>0</td>\n",
       "      <td>0</td>\n",
       "    </tr>\n",
       "    <tr>\n",
       "      <th>1</th>\n",
       "      <td>34</td>\n",
       "      <td>32.0</td>\n",
       "      <td>-5.0</td>\n",
       "      <td>0.0</td>\n",
       "      <td>-10.0</td>\n",
       "      <td>-6.0</td>\n",
       "      <td>50</td>\n",
       "      <td>53</td>\n",
       "      <td>-3</td>\n",
       "      <td>0.960000</td>\n",
       "      <td>0.943396</td>\n",
       "      <td>0.708333</td>\n",
       "      <td>0.640000</td>\n",
       "      <td>0</td>\n",
       "      <td>1</td>\n",
       "      <td>0</td>\n",
       "    </tr>\n",
       "    <tr>\n",
       "      <th>3</th>\n",
       "      <td>32</td>\n",
       "      <td>19.0</td>\n",
       "      <td>-4.0</td>\n",
       "      <td>0.0</td>\n",
       "      <td>1.0</td>\n",
       "      <td>-1.0</td>\n",
       "      <td>48</td>\n",
       "      <td>34</td>\n",
       "      <td>14</td>\n",
       "      <td>0.958333</td>\n",
       "      <td>0.911765</td>\n",
       "      <td>0.695652</td>\n",
       "      <td>0.612903</td>\n",
       "      <td>0</td>\n",
       "      <td>1</td>\n",
       "      <td>0</td>\n",
       "    </tr>\n",
       "    <tr>\n",
       "      <th>6</th>\n",
       "      <td>31</td>\n",
       "      <td>12.0</td>\n",
       "      <td>-8.0</td>\n",
       "      <td>0.0</td>\n",
       "      <td>0.0</td>\n",
       "      <td>-9.0</td>\n",
       "      <td>45</td>\n",
       "      <td>22</td>\n",
       "      <td>23</td>\n",
       "      <td>0.955556</td>\n",
       "      <td>0.863636</td>\n",
       "      <td>0.720930</td>\n",
       "      <td>0.631579</td>\n",
       "      <td>0</td>\n",
       "      <td>1</td>\n",
       "      <td>0</td>\n",
       "    </tr>\n",
       "    <tr>\n",
       "      <th>10</th>\n",
       "      <td>29</td>\n",
       "      <td>18.0</td>\n",
       "      <td>-6.0</td>\n",
       "      <td>1.0</td>\n",
       "      <td>-2.0</td>\n",
       "      <td>4.0</td>\n",
       "      <td>41</td>\n",
       "      <td>34</td>\n",
       "      <td>7</td>\n",
       "      <td>0.975610</td>\n",
       "      <td>0.882353</td>\n",
       "      <td>0.725000</td>\n",
       "      <td>0.600000</td>\n",
       "      <td>0</td>\n",
       "      <td>1</td>\n",
       "      <td>0</td>\n",
       "    </tr>\n",
       "  </tbody>\n",
       "</table>\n",
       "</div>"
      ],
      "text/plain": [
       "    kos_A  kos_B  Diff_age  Diff_weight  Diff_height  Diff_reach  Tot_fight_A  \\\n",
       "0      33   34.0       8.0          0.0          4.0        -1.0           37   \n",
       "1      34   32.0      -5.0          0.0        -10.0        -6.0           50   \n",
       "3      32   19.0      -4.0          0.0          1.0        -1.0           48   \n",
       "6      31   12.0      -8.0          0.0          0.0        -9.0           45   \n",
       "10     29   18.0      -6.0          1.0         -2.0         4.0           41   \n",
       "\n",
       "    Tot_fight_B  Diff_exp  Win_per_A  Win_per_B  KO_perc_A  KO_perc_B  \\\n",
       "0            51       -14   1.000000   0.960784   0.891892   0.693878   \n",
       "1            53        -3   0.960000   0.943396   0.708333   0.640000   \n",
       "3            34        14   0.958333   0.911765   0.695652   0.612903   \n",
       "6            22        23   0.955556   0.863636   0.720930   0.631579   \n",
       "10           34         7   0.975610   0.882353   0.725000   0.600000   \n",
       "\n",
       "    result_draw  result_win_A  result_win_B  \n",
       "0             1             0             0  \n",
       "1             0             1             0  \n",
       "3             0             1             0  \n",
       "6             0             1             0  \n",
       "10            0             1             0  "
      ]
     },
     "execution_count": 9,
     "metadata": {},
     "output_type": "execute_result"
    }
   ],
   "source": [
    "ml_dummies = pd.get_dummies(ml)\n",
    "ml_dummies.fillna(value=0, inplace=True)\n",
    "ml_dummies.head()"
   ]
  },
  {
   "cell_type": "code",
   "execution_count": 10,
   "metadata": {},
   "outputs": [
    {
     "data": {
      "text/html": [
       "<div>\n",
       "<style scoped>\n",
       "    .dataframe tbody tr th:only-of-type {\n",
       "        vertical-align: middle;\n",
       "    }\n",
       "\n",
       "    .dataframe tbody tr th {\n",
       "        vertical-align: top;\n",
       "    }\n",
       "\n",
       "    .dataframe thead th {\n",
       "        text-align: right;\n",
       "    }\n",
       "</style>\n",
       "<table border=\"1\" class=\"dataframe\">\n",
       "  <thead>\n",
       "    <tr style=\"text-align: right;\">\n",
       "      <th></th>\n",
       "      <th>kos_A</th>\n",
       "      <th>kos_B</th>\n",
       "      <th>Diff_age</th>\n",
       "      <th>Diff_weight</th>\n",
       "      <th>Diff_height</th>\n",
       "      <th>Diff_reach</th>\n",
       "      <th>Tot_fight_A</th>\n",
       "      <th>Tot_fight_B</th>\n",
       "      <th>Diff_exp</th>\n",
       "      <th>Win_per_A</th>\n",
       "      <th>Win_per_B</th>\n",
       "      <th>KO_perc_A</th>\n",
       "      <th>KO_perc_B</th>\n",
       "    </tr>\n",
       "  </thead>\n",
       "  <tbody>\n",
       "    <tr>\n",
       "      <th>0</th>\n",
       "      <td>33</td>\n",
       "      <td>34.0</td>\n",
       "      <td>8.0</td>\n",
       "      <td>0.0</td>\n",
       "      <td>4.0</td>\n",
       "      <td>-1.0</td>\n",
       "      <td>37</td>\n",
       "      <td>51</td>\n",
       "      <td>-14</td>\n",
       "      <td>1.000000</td>\n",
       "      <td>0.960784</td>\n",
       "      <td>0.891892</td>\n",
       "      <td>0.693878</td>\n",
       "    </tr>\n",
       "    <tr>\n",
       "      <th>1</th>\n",
       "      <td>34</td>\n",
       "      <td>32.0</td>\n",
       "      <td>-5.0</td>\n",
       "      <td>0.0</td>\n",
       "      <td>-10.0</td>\n",
       "      <td>-6.0</td>\n",
       "      <td>50</td>\n",
       "      <td>53</td>\n",
       "      <td>-3</td>\n",
       "      <td>0.960000</td>\n",
       "      <td>0.943396</td>\n",
       "      <td>0.708333</td>\n",
       "      <td>0.640000</td>\n",
       "    </tr>\n",
       "    <tr>\n",
       "      <th>3</th>\n",
       "      <td>32</td>\n",
       "      <td>19.0</td>\n",
       "      <td>-4.0</td>\n",
       "      <td>0.0</td>\n",
       "      <td>1.0</td>\n",
       "      <td>-1.0</td>\n",
       "      <td>48</td>\n",
       "      <td>34</td>\n",
       "      <td>14</td>\n",
       "      <td>0.958333</td>\n",
       "      <td>0.911765</td>\n",
       "      <td>0.695652</td>\n",
       "      <td>0.612903</td>\n",
       "    </tr>\n",
       "    <tr>\n",
       "      <th>6</th>\n",
       "      <td>31</td>\n",
       "      <td>12.0</td>\n",
       "      <td>-8.0</td>\n",
       "      <td>0.0</td>\n",
       "      <td>0.0</td>\n",
       "      <td>-9.0</td>\n",
       "      <td>45</td>\n",
       "      <td>22</td>\n",
       "      <td>23</td>\n",
       "      <td>0.955556</td>\n",
       "      <td>0.863636</td>\n",
       "      <td>0.720930</td>\n",
       "      <td>0.631579</td>\n",
       "    </tr>\n",
       "    <tr>\n",
       "      <th>10</th>\n",
       "      <td>29</td>\n",
       "      <td>18.0</td>\n",
       "      <td>-6.0</td>\n",
       "      <td>1.0</td>\n",
       "      <td>-2.0</td>\n",
       "      <td>4.0</td>\n",
       "      <td>41</td>\n",
       "      <td>34</td>\n",
       "      <td>7</td>\n",
       "      <td>0.975610</td>\n",
       "      <td>0.882353</td>\n",
       "      <td>0.725000</td>\n",
       "      <td>0.600000</td>\n",
       "    </tr>\n",
       "  </tbody>\n",
       "</table>\n",
       "</div>"
      ],
      "text/plain": [
       "    kos_A  kos_B  Diff_age  Diff_weight  Diff_height  Diff_reach  Tot_fight_A  \\\n",
       "0      33   34.0       8.0          0.0          4.0        -1.0           37   \n",
       "1      34   32.0      -5.0          0.0        -10.0        -6.0           50   \n",
       "3      32   19.0      -4.0          0.0          1.0        -1.0           48   \n",
       "6      31   12.0      -8.0          0.0          0.0        -9.0           45   \n",
       "10     29   18.0      -6.0          1.0         -2.0         4.0           41   \n",
       "\n",
       "    Tot_fight_B  Diff_exp  Win_per_A  Win_per_B  KO_perc_A  KO_perc_B  \n",
       "0            51       -14   1.000000   0.960784   0.891892   0.693878  \n",
       "1            53        -3   0.960000   0.943396   0.708333   0.640000  \n",
       "3            34        14   0.958333   0.911765   0.695652   0.612903  \n",
       "6            22        23   0.955556   0.863636   0.720930   0.631579  \n",
       "10           34         7   0.975610   0.882353   0.725000   0.600000  "
      ]
     },
     "execution_count": 10,
     "metadata": {},
     "output_type": "execute_result"
    }
   ],
   "source": [
    "# Remove the label from the dataframe\n",
    "try:\n",
    "    label = ml_dummies['result_win_A']\n",
    "    del ml_dummies['result_win_A']\n",
    "    del ml_dummies['result_win_B']\n",
    "    del ml_dummies['result_draw']\n",
    "except:\n",
    "    print(\"label already removed\")\n",
    "ml_dummies.head()"
   ]
  },
  {
   "cell_type": "code",
   "execution_count": 11,
   "metadata": {},
   "outputs": [],
   "source": [
    "# import random column\n",
    "ml_dummies['---randomColumn---'] = np.random.randint(0,1000, size=len(ml_dummies))"
   ]
  },
  {
   "cell_type": "code",
   "execution_count": 12,
   "metadata": {},
   "outputs": [
    {
     "name": "stdout",
     "output_type": "stream",
     "text": [
      "RandomForestClassifier\n",
      "0.807 \n",
      " - - - - -  \n",
      "\n",
      "RandomForestClassifier\n",
      "0.828 \n",
      " - - - - -  \n",
      "\n"
     ]
    },
    {
     "data": {
      "text/plain": [
       "<matplotlib.axes._subplots.AxesSubplot at 0x198b56922b0>"
      ]
     },
     "execution_count": 12,
     "metadata": {},
     "output_type": "execute_result"
    },
    {
     "data": {
      "image/png": "[encoded data removed]",
      "text/plain": [
       "<Figure size 1440x1080 with 1 Axes>"
      ]
     },
     "metadata": {},
     "output_type": "display_data"
    }
   ],
   "source": [
    "from sklearn.model_selection import train_test_split\n",
    "feature_train, feature_test, label_train, label_test = train_test_split(ml_dummies, label, test_size=0.3)\n",
    "\n",
    "# Classifiers\n",
    "from sklearn.ensemble import RandomForestClassifier\n",
    "\n",
    "classifiers = [\n",
    "    RandomForestClassifier(),\n",
    "    RandomForestClassifier(bootstrap=True, class_weight=None, criterion='gini',\n",
    "            max_depth=17, max_features=6, max_leaf_nodes=None,\n",
    "            min_impurity_decrease=0.0, min_impurity_split=None,\n",
    "            min_samples_leaf=1, min_samples_split=2,\n",
    "            min_weight_fraction_leaf=0.0, n_estimators=70, n_jobs=1,\n",
    "            oob_score=False, random_state=None, verbose=0,\n",
    "            warm_start=True)    \n",
    "]\n",
    "\n",
    "# iterate over classifiers\n",
    "for item in classifiers:\n",
    "    classifier_name = ((str(item)[:(str(item).find(\"(\"))]))\n",
    "    print (classifier_name)\n",
    "    \n",
    "    # Create classifier, train it and test it.\n",
    "    clf = item\n",
    "    clf.fit(feature_train, label_train)\n",
    "    score = clf.score(feature_test, label_test)\n",
    "    print (round(score,3),\"\\n\", \"- - - - - \", \"\\n\")\n",
    "    \n",
    "importance_df = pd.DataFrame()\n",
    "importance_df['feature'] = ml_dummies.columns\n",
    "importance_df['importance'] = clf.feature_importances_    \n",
    "\n",
    "# importance_df.sort_values('importance', ascending=False)\n",
    "importance_df.set_index(keys='feature').sort_values(by='importance', ascending=True).plot(kind='barh', figsize=(20, 15))"
   ]
  },
  {
   "cell_type": "code",
   "execution_count": 13,
   "metadata": {},
   "outputs": [],
   "source": [
    "from sklearn.model_selection import GridSearchCV\n",
    "\n",
    "max_depth_range = range(2,20,5)\n",
    "leaf_range = range(1,5,2)\n",
    "n_estimators_range = range(10,140,20)\n",
    "max_features_range = range(1,len(ml_dummies.columns),5)\n",
    "\n",
    "\n",
    "param_grid = dict(max_depth = max_depth_range,\n",
    "                 min_samples_leaf = leaf_range,\n",
    "                 n_estimators = n_estimators_range,\n",
    "                 max_features = max_features_range\n",
    "                )"
   ]
  },
  {
   "cell_type": "code",
   "execution_count": 14,
   "metadata": {},
   "outputs": [],
   "source": [
    "corr_table = ml_dummies.copy()\n",
    "corr_table['result_win_A'] = label"
   ]
  },
  {
   "cell_type": "code",
   "execution_count": 15,
   "metadata": {},
   "outputs": [
    {
     "data": {
      "text/html": [
       "<div>\n",
       "<style scoped>\n",
       "    .dataframe tbody tr th:only-of-type {\n",
       "        vertical-align: middle;\n",
       "    }\n",
       "\n",
       "    .dataframe tbody tr th {\n",
       "        vertical-align: top;\n",
       "    }\n",
       "\n",
       "    .dataframe thead th {\n",
       "        text-align: right;\n",
       "    }\n",
       "</style>\n",
       "<table border=\"1\" class=\"dataframe\">\n",
       "  <thead>\n",
       "    <tr style=\"text-align: right;\">\n",
       "      <th></th>\n",
       "      <th>kos_A</th>\n",
       "      <th>kos_B</th>\n",
       "      <th>Diff_age</th>\n",
       "      <th>Diff_weight</th>\n",
       "      <th>Diff_height</th>\n",
       "      <th>Diff_reach</th>\n",
       "      <th>Tot_fight_A</th>\n",
       "      <th>Tot_fight_B</th>\n",
       "      <th>Diff_exp</th>\n",
       "      <th>Win_per_A</th>\n",
       "      <th>Win_per_B</th>\n",
       "      <th>KO_perc_A</th>\n",
       "      <th>KO_perc_B</th>\n",
       "      <th>---randomColumn---</th>\n",
       "      <th>result_win_A</th>\n",
       "    </tr>\n",
       "  </thead>\n",
       "  <tbody>\n",
       "    <tr>\n",
       "      <th>kos_A</th>\n",
       "      <td>1.000000</td>\n",
       "      <td>0.345885</td>\n",
       "      <td>0.291437</td>\n",
       "      <td>-0.031786</td>\n",
       "      <td>-0.121045</td>\n",
       "      <td>-0.041651</td>\n",
       "      <td>0.721609</td>\n",
       "      <td>0.322915</td>\n",
       "      <td>0.442676</td>\n",
       "      <td>0.132833</td>\n",
       "      <td>0.247088</td>\n",
       "      <td>0.268770</td>\n",
       "      <td>0.123329</td>\n",
       "      <td>-0.025118</td>\n",
       "      <td>-0.025024</td>\n",
       "    </tr>\n",
       "    <tr>\n",
       "      <th>kos_B</th>\n",
       "      <td>0.345885</td>\n",
       "      <td>1.000000</td>\n",
       "      <td>-0.133564</td>\n",
       "      <td>-0.066038</td>\n",
       "      <td>0.007028</td>\n",
       "      <td>-0.008714</td>\n",
       "      <td>0.288370</td>\n",
       "      <td>0.719654</td>\n",
       "      <td>-0.344106</td>\n",
       "      <td>0.111842</td>\n",
       "      <td>0.351849</td>\n",
       "      <td>0.106281</td>\n",
       "      <td>0.387230</td>\n",
       "      <td>-0.026801</td>\n",
       "      <td>-0.024530</td>\n",
       "    </tr>\n",
       "    <tr>\n",
       "      <th>Diff_age</th>\n",
       "      <td>0.291437</td>\n",
       "      <td>-0.133564</td>\n",
       "      <td>1.000000</td>\n",
       "      <td>0.009727</td>\n",
       "      <td>-0.194413</td>\n",
       "      <td>-0.071730</td>\n",
       "      <td>0.320558</td>\n",
       "      <td>-0.182308</td>\n",
       "      <td>0.484015</td>\n",
       "      <td>-0.159142</td>\n",
       "      <td>0.147251</td>\n",
       "      <td>-0.105787</td>\n",
       "      <td>0.016862</td>\n",
       "      <td>0.006650</td>\n",
       "      <td>-0.179286</td>\n",
       "    </tr>\n",
       "    <tr>\n",
       "      <th>Diff_weight</th>\n",
       "      <td>-0.031786</td>\n",
       "      <td>-0.066038</td>\n",
       "      <td>0.009727</td>\n",
       "      <td>1.000000</td>\n",
       "      <td>0.113466</td>\n",
       "      <td>0.100856</td>\n",
       "      <td>-0.067129</td>\n",
       "      <td>-0.056505</td>\n",
       "      <td>-0.017834</td>\n",
       "      <td>0.001664</td>\n",
       "      <td>-0.009914</td>\n",
       "      <td>0.009573</td>\n",
       "      <td>-0.031216</td>\n",
       "      <td>-0.015414</td>\n",
       "      <td>0.021351</td>\n",
       "    </tr>\n",
       "    <tr>\n",
       "      <th>Diff_height</th>\n",
       "      <td>-0.121045</td>\n",
       "      <td>0.007028</td>\n",
       "      <td>-0.194413</td>\n",
       "      <td>0.113466</td>\n",
       "      <td>1.000000</td>\n",
       "      <td>0.639559</td>\n",
       "      <td>-0.178999</td>\n",
       "      <td>0.052058</td>\n",
       "      <td>-0.226394</td>\n",
       "      <td>0.088039</td>\n",
       "      <td>-0.098361</td>\n",
       "      <td>0.081163</td>\n",
       "      <td>-0.053863</td>\n",
       "      <td>0.004922</td>\n",
       "      <td>0.085303</td>\n",
       "    </tr>\n",
       "    <tr>\n",
       "      <th>Diff_reach</th>\n",
       "      <td>-0.041651</td>\n",
       "      <td>-0.008714</td>\n",
       "      <td>-0.071730</td>\n",
       "      <td>0.100856</td>\n",
       "      <td>0.639559</td>\n",
       "      <td>1.000000</td>\n",
       "      <td>-0.106086</td>\n",
       "      <td>0.037575</td>\n",
       "      <td>-0.140104</td>\n",
       "      <td>0.059588</td>\n",
       "      <td>-0.042202</td>\n",
       "      <td>0.065328</td>\n",
       "      <td>-0.050079</td>\n",
       "      <td>-0.000556</td>\n",
       "      <td>0.051945</td>\n",
       "    </tr>\n",
       "    <tr>\n",
       "      <th>Tot_fight_A</th>\n",
       "      <td>0.721609</td>\n",
       "      <td>0.288370</td>\n",
       "      <td>0.320558</td>\n",
       "      <td>-0.067129</td>\n",
       "      <td>-0.178999</td>\n",
       "      <td>-0.106086</td>\n",
       "      <td>1.000000</td>\n",
       "      <td>0.446757</td>\n",
       "      <td>0.614106</td>\n",
       "      <td>-0.074564</td>\n",
       "      <td>0.136715</td>\n",
       "      <td>-0.192358</td>\n",
       "      <td>-0.053657</td>\n",
       "      <td>-0.032250</td>\n",
       "      <td>-0.111172</td>\n",
       "    </tr>\n",
       "    <tr>\n",
       "      <th>Tot_fight_B</th>\n",
       "      <td>0.322915</td>\n",
       "      <td>0.719654</td>\n",
       "      <td>-0.182308</td>\n",
       "      <td>-0.056505</td>\n",
       "      <td>0.052058</td>\n",
       "      <td>0.037575</td>\n",
       "      <td>0.446757</td>\n",
       "      <td>1.000000</td>\n",
       "      <td>-0.431726</td>\n",
       "      <td>0.006442</td>\n",
       "      <td>0.076700</td>\n",
       "      <td>-0.071977</td>\n",
       "      <td>-0.065357</td>\n",
       "      <td>-0.037866</td>\n",
       "      <td>-0.037242</td>\n",
       "    </tr>\n",
       "    <tr>\n",
       "      <th>Diff_exp</th>\n",
       "      <td>0.442676</td>\n",
       "      <td>-0.344106</td>\n",
       "      <td>0.484015</td>\n",
       "      <td>-0.017834</td>\n",
       "      <td>-0.226394</td>\n",
       "      <td>-0.140104</td>\n",
       "      <td>0.614106</td>\n",
       "      <td>-0.431726</td>\n",
       "      <td>1.000000</td>\n",
       "      <td>-0.080859</td>\n",
       "      <td>0.070177</td>\n",
       "      <td>-0.130443</td>\n",
       "      <td>0.003557</td>\n",
       "      <td>0.000889</td>\n",
       "      <td>-0.079232</td>\n",
       "    </tr>\n",
       "    <tr>\n",
       "      <th>Win_per_A</th>\n",
       "      <td>0.132833</td>\n",
       "      <td>0.111842</td>\n",
       "      <td>-0.159142</td>\n",
       "      <td>0.001664</td>\n",
       "      <td>0.088039</td>\n",
       "      <td>0.059588</td>\n",
       "      <td>-0.074564</td>\n",
       "      <td>0.006442</td>\n",
       "      <td>-0.080859</td>\n",
       "      <td>1.000000</td>\n",
       "      <td>0.256715</td>\n",
       "      <td>0.491269</td>\n",
       "      <td>0.230728</td>\n",
       "      <td>-0.013020</td>\n",
       "      <td>0.202394</td>\n",
       "    </tr>\n",
       "    <tr>\n",
       "      <th>Win_per_B</th>\n",
       "      <td>0.247088</td>\n",
       "      <td>0.351849</td>\n",
       "      <td>0.147251</td>\n",
       "      <td>-0.009914</td>\n",
       "      <td>-0.098361</td>\n",
       "      <td>-0.042202</td>\n",
       "      <td>0.136715</td>\n",
       "      <td>0.076700</td>\n",
       "      <td>0.070177</td>\n",
       "      <td>0.256715</td>\n",
       "      <td>1.000000</td>\n",
       "      <td>0.164888</td>\n",
       "      <td>0.424788</td>\n",
       "      <td>0.002643</td>\n",
       "      <td>-0.114817</td>\n",
       "    </tr>\n",
       "    <tr>\n",
       "      <th>KO_perc_A</th>\n",
       "      <td>0.268770</td>\n",
       "      <td>0.106281</td>\n",
       "      <td>-0.105787</td>\n",
       "      <td>0.009573</td>\n",
       "      <td>0.081163</td>\n",
       "      <td>0.065328</td>\n",
       "      <td>-0.192358</td>\n",
       "      <td>-0.071977</td>\n",
       "      <td>-0.130443</td>\n",
       "      <td>0.491269</td>\n",
       "      <td>0.164888</td>\n",
       "      <td>1.000000</td>\n",
       "      <td>0.282328</td>\n",
       "      <td>0.006001</td>\n",
       "      <td>0.142780</td>\n",
       "    </tr>\n",
       "    <tr>\n",
       "      <th>KO_perc_B</th>\n",
       "      <td>0.123329</td>\n",
       "      <td>0.387230</td>\n",
       "      <td>0.016862</td>\n",
       "      <td>-0.031216</td>\n",
       "      <td>-0.053863</td>\n",
       "      <td>-0.050079</td>\n",
       "      <td>-0.053657</td>\n",
       "      <td>-0.065357</td>\n",
       "      <td>0.003557</td>\n",
       "      <td>0.230728</td>\n",
       "      <td>0.424788</td>\n",
       "      <td>0.282328</td>\n",
       "      <td>1.000000</td>\n",
       "      <td>-0.012377</td>\n",
       "      <td>0.036187</td>\n",
       "    </tr>\n",
       "    <tr>\n",
       "      <th>---randomColumn---</th>\n",
       "      <td>-0.025118</td>\n",
       "      <td>-0.026801</td>\n",
       "      <td>0.006650</td>\n",
       "      <td>-0.015414</td>\n",
       "      <td>0.004922</td>\n",
       "      <td>-0.000556</td>\n",
       "      <td>-0.032250</td>\n",
       "      <td>-0.037866</td>\n",
       "      <td>0.000889</td>\n",
       "      <td>-0.013020</td>\n",
       "      <td>0.002643</td>\n",
       "      <td>0.006001</td>\n",
       "      <td>-0.012377</td>\n",
       "      <td>1.000000</td>\n",
       "      <td>-0.004241</td>\n",
       "    </tr>\n",
       "    <tr>\n",
       "      <th>result_win_A</th>\n",
       "      <td>-0.025024</td>\n",
       "      <td>-0.024530</td>\n",
       "      <td>-0.179286</td>\n",
       "      <td>0.021351</td>\n",
       "      <td>0.085303</td>\n",
       "      <td>0.051945</td>\n",
       "      <td>-0.111172</td>\n",
       "      <td>-0.037242</td>\n",
       "      <td>-0.079232</td>\n",
       "      <td>0.202394</td>\n",
       "      <td>-0.114817</td>\n",
       "      <td>0.142780</td>\n",
       "      <td>0.036187</td>\n",
       "      <td>-0.004241</td>\n",
       "      <td>1.000000</td>\n",
       "    </tr>\n",
       "  </tbody>\n",
       "</table>\n",
       "</div>"
      ],
      "text/plain": [
       "                       kos_A     kos_B  Diff_age  Diff_weight  Diff_height  \\\n",
       "kos_A               1.000000  0.345885  0.291437    -0.031786    -0.121045   \n",
       "kos_B               0.345885  1.000000 -0.133564    -0.066038     0.007028   \n",
       "Diff_age            0.291437 -0.133564  1.000000     0.009727    -0.194413   \n",
       "Diff_weight        -0.031786 -0.066038  0.009727     1.000000     0.113466   \n",
       "Diff_height        -0.121045  0.007028 -0.194413     0.113466     1.000000   \n",
       "Diff_reach         -0.041651 -0.008714 -0.071730     0.100856     0.639559   \n",
       "Tot_fight_A         0.721609  0.288370  0.320558    -0.067129    -0.178999   \n",
       "Tot_fight_B         0.322915  0.719654 -0.182308    -0.056505     0.052058   \n",
       "Diff_exp            0.442676 -0.344106  0.484015    -0.017834    -0.226394   \n",
       "Win_per_A           0.132833  0.111842 -0.159142     0.001664     0.088039   \n",
       "Win_per_B           0.247088  0.351849  0.147251    -0.009914    -0.098361   \n",
       "KO_perc_A           0.268770  0.106281 -0.105787     0.009573     0.081163   \n",
       "KO_perc_B           0.123329  0.387230  0.016862    -0.031216    -0.053863   \n",
       "---randomColumn--- -0.025118 -0.026801  0.006650    -0.015414     0.004922   \n",
       "result_win_A       -0.025024 -0.024530 -0.179286     0.021351     0.085303   \n",
       "\n",
       "                    Diff_reach  Tot_fight_A  Tot_fight_B  Diff_exp  Win_per_A  \\\n",
       "kos_A                -0.041651     0.721609     0.322915  0.442676   0.132833   \n",
       "kos_B                -0.008714     0.288370     0.719654 -0.344106   0.111842   \n",
       "Diff_age             -0.071730     0.320558    -0.182308  0.484015  -0.159142   \n",
       "Diff_weight           0.100856    -0.067129    -0.056505 -0.017834   0.001664   \n",
       "Diff_height           0.639559    -0.178999     0.052058 -0.226394   0.088039   \n",
       "Diff_reach            1.000000    -0.106086     0.037575 -0.140104   0.059588   \n",
       "Tot_fight_A          -0.106086     1.000000     0.446757  0.614106  -0.074564   \n",
       "Tot_fight_B           0.037575     0.446757     1.000000 -0.431726   0.006442   \n",
       "Diff_exp             -0.140104     0.614106    -0.431726  1.000000  -0.080859   \n",
       "Win_per_A             0.059588    -0.074564     0.006442 -0.080859   1.000000   \n",
       "Win_per_B            -0.042202     0.136715     0.076700  0.070177   0.256715   \n",
       "KO_perc_A             0.065328    -0.192358    -0.071977 -0.130443   0.491269   \n",
       "KO_perc_B            -0.050079    -0.053657    -0.065357  0.003557   0.230728   \n",
       "---randomColumn---   -0.000556    -0.032250    -0.037866  0.000889  -0.013020   \n",
       "result_win_A          0.051945    -0.111172    -0.037242 -0.079232   0.202394   \n",
       "\n",
       "                    Win_per_B  KO_perc_A  KO_perc_B  ---randomColumn---  \\\n",
       "kos_A                0.247088   0.268770   0.123329           -0.025118   \n",
       "kos_B                0.351849   0.106281   0.387230           -0.026801   \n",
       "Diff_age             0.147251  -0.105787   0.016862            0.006650   \n",
       "Diff_weight         -0.009914   0.009573  -0.031216           -0.015414   \n",
       "Diff_height         -0.098361   0.081163  -0.053863            0.004922   \n",
       "Diff_reach          -0.042202   0.065328  -0.050079           -0.000556   \n",
       "Tot_fight_A          0.136715  -0.192358  -0.053657           -0.032250   \n",
       "Tot_fight_B          0.076700  -0.071977  -0.065357           -0.037866   \n",
       "Diff_exp             0.070177  -0.130443   0.003557            0.000889   \n",
       "Win_per_A            0.256715   0.491269   0.230728           -0.013020   \n",
       "Win_per_B            1.000000   0.164888   0.424788            0.002643   \n",
       "KO_perc_A            0.164888   1.000000   0.282328            0.006001   \n",
       "KO_perc_B            0.424788   0.282328   1.000000           -0.012377   \n",
       "---randomColumn---   0.002643   0.006001  -0.012377            1.000000   \n",
       "result_win_A        -0.114817   0.142780   0.036187           -0.004241   \n",
       "\n",
       "                    result_win_A  \n",
       "kos_A                  -0.025024  \n",
       "kos_B                  -0.024530  \n",
       "Diff_age               -0.179286  \n",
       "Diff_weight             0.021351  \n",
       "Diff_height             0.085303  \n",
       "Diff_reach              0.051945  \n",
       "Tot_fight_A            -0.111172  \n",
       "Tot_fight_B            -0.037242  \n",
       "Diff_exp               -0.079232  \n",
       "Win_per_A               0.202394  \n",
       "Win_per_B              -0.114817  \n",
       "KO_perc_A               0.142780  \n",
       "KO_perc_B               0.036187  \n",
       "---randomColumn---     -0.004241  \n",
       "result_win_A            1.000000  "
      ]
     },
     "execution_count": 15,
     "metadata": {},
     "output_type": "execute_result"
    }
   ],
   "source": [
    "corr_table.corr()"
   ]
  },
  {
   "cell_type": "code",
   "execution_count": 16,
   "metadata": {},
   "outputs": [
    {
     "data": {
      "text/plain": [
       "<matplotlib.axes._subplots.AxesSubplot at 0x198b55faf98>"
      ]
     },
     "execution_count": 16,
     "metadata": {},
     "output_type": "execute_result"
    },
    {
     "data": {
      "image/png": "[encoded data removed]",
      "text/plain": [
       "<Figure size 1440x720 with 2 Axes>"
      ]
     },
     "metadata": {},
     "output_type": "display_data"
    }
   ],
   "source": [
    "fig = plt.figure(figsize = (20,10))\n",
    "corr = corr_table.corr()\n",
    "sns.heatmap(corr, \n",
    "            xticklabels=corr.columns.values,\n",
    "            yticklabels=corr.columns.values)"
   ]
  },
  {
   "cell_type": "code",
   "execution_count": null,
   "metadata": {},
   "outputs": [],
   "source": []
  }
 ],
 "metadata": {
  "kernelspec": {
   "display_name": "Python 3",
   "language": "python",
   "name": "python3"
  },
  "language_info": {
   "codemirror_mode": {
    "name": "ipython",
    "version": 3
   },
   "file_extension": ".py",
   "mimetype": "text/x-python",
   "name": "python",
   "nbconvert_exporter": "python",
   "pygments_lexer": "ipython3",
   "version": "3.7.1"
  }
 },
 "nbformat": 4,
 "nbformat_minor": 2
}
